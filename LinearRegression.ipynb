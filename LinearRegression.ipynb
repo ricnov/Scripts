{
  "nbformat": 4,
  "nbformat_minor": 0,
  "metadata": {
    "colab": {
      "name": "LinearRegression.ipynb",
      "provenance": [],
      "authorship_tag": "ABX9TyOwk4sWdTpyC00VYuyxB5tI",
      "include_colab_link": true
    },
    "kernelspec": {
      "name": "python3",
      "display_name": "Python 3"
    }
  },
  "cells": [
    {
      "cell_type": "markdown",
      "metadata": {
        "id": "view-in-github",
        "colab_type": "text"
      },
      "source": [
        "<a href=\"https://colab.research.google.com/github/ricnov/Scripts/blob/master/LinearRegression.ipynb\" target=\"_parent\"><img src=\"https://colab.research.google.com/assets/colab-badge.svg\" alt=\"Open In Colab\"/></a>"
      ]
    },
    {
      "cell_type": "code",
      "metadata": {
        "id": "GiygLnjvN8HR",
        "colab_type": "code",
        "colab": {
          "base_uri": "https://localhost:8080/",
          "height": 265
        },
        "outputId": "83158f14-0f26-4339-d152-97feb1244d06"
      },
      "source": [
        "import numpy as np\n",
        "\n",
        "import matplotlib.pyplot as plt\n",
        "\n",
        "x_train = np.linspace(0, 10, 100)\n",
        "\n",
        "y_train = x_train + np.random.normal(0,1,100)\n",
        "\n",
        "plt.scatter(x_train, y_train)\n",
        "\n",
        "plt.show()"
      ],
      "execution_count": 1,
      "outputs": [
        {
          "output_type": "display_data",
          "data": {
            "image/png": "[encoded data removed]",
            "text/plain": [
              "<Figure size 432x288 with 1 Axes>"
            ]
          },
          "metadata": {
            "tags": []
          }
        }
      ]
    },
    {
      "cell_type": "code",
      "metadata": {
        "id": "mUqrvmM2OBQd",
        "colab_type": "code",
        "colab": {
          "base_uri": "https://localhost:8080/",
          "height": 265
        },
        "outputId": "a44ebb08-8084-4ad5-8f09-cc15a35215e9"
      },
      "source": [
        "import tensorflow as tf\n",
        "\n",
        "import numpy as np\n",
        "\n",
        "import matplotlib.pyplot as plt\n",
        "\n",
        "learning_rate = 0.01\n",
        "\n",
        "# steps of looping through all your data to update the parameters\n",
        "\n",
        "training_epochs = 100\n",
        "\n",
        "# a training set\n",
        "\n",
        "x_train = np.linspace(0, 10, 100)\n",
        "\n",
        "y_train = x_train + np.random.normal(0,1,100)\n",
        "\n",
        "# set up placeholders for input and output\n",
        "\n",
        "X = tf.placeholder(tf.float32)\n",
        "\n",
        "Y = tf.placeholder(tf.float32)\n",
        "\n",
        "# Define h(x) = x*w1 + w0\n",
        "\n",
        "def h(X, w1, w0):\n",
        "\n",
        "       return tf.add(tf.multiply(X, w1), w0)\n",
        "\n",
        "# set up variables for weights\n",
        "\n",
        "w0 = tf.Variable(0.0, name=\"weights\")\n",
        "\n",
        "w1 = tf.Variable(0.0, name=\"weights\")\n",
        "\n",
        "y_predicted = h(X, w1, w0)\n",
        "\n",
        "# Define the cost function\n",
        "\n",
        "costF = 0.5*tf.square(Y-y_predicted)\n",
        "\n",
        "# Define the operation that will be called on each iteration\n",
        "\n",
        "train_op = tf.train.GradientDescentOptimizer(learning_rate).minimize(costF)\n",
        "\n",
        "sess = tf.Session()\n",
        "\n",
        "init = tf.global_variables_initializer()\n",
        "\n",
        "sess.run(init)\n",
        "\n",
        "# Loop through the data training\n",
        "\n",
        "for epoch in range(training_epochs):\n",
        "\n",
        "       for (x, y) in zip(x_train, y_train):\n",
        "\n",
        "              sess.run(train_op, feed_dict={X: x, Y: y})\n",
        "\n",
        "# get values of the final weights\n",
        "\n",
        "w_val_0 = sess.run(w0)\n",
        "\n",
        "w_val_1 = sess.run(w1)\n",
        "\n",
        "sess.close()\n",
        "\n",
        "# plot the data training\n",
        "\n",
        "plt.scatter(x_train, y_train)\n",
        "\n",
        "# plot the best fit line\n",
        "\n",
        "y_learned = x_train*w_val_1 + w_val_0\n",
        "\n",
        "plt.plot(x_train, y_learned, 'r')\n",
        "\n",
        "plt.show()"
      ],
      "execution_count": 3,
      "outputs": [
        {
          "output_type": "display_data",
          "data": {
            "image/png": "[encoded data removed]",
            "text/plain": [
              "<Figure size 432x288 with 1 Axes>"
            ]
          },
          "metadata": {
            "tags": []
          }
        }
      ]
    }
  ]
}